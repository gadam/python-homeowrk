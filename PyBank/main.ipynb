{
 "cells": [
  {
   "cell_type": "code",
   "execution_count": 60,
   "id": "8c626efd-3dba-4474-b5f9-e3acd95c809f",
   "metadata": {},
   "outputs": [],
   "source": [
    "'''\n",
    "Python script that analyzes the financial records of the company to calculate each of the following:\n",
    "\n",
    "    The total number of months included in the dataset.\n",
    "    The net total amount of Profit/Losses over the entire period.\n",
    "    The average of the changes in Profit/Losses over the entire period.\n",
    "    The greatest increase in profits (date and amount) over the entire period.\n",
    "    The greatest decrease in losses (date and amount) over the entire period.\n",
    "'''\n",
    "# Import from the pathlib library, the main class Path\n",
    "from pathlib import Path\n",
    "\n",
    "# Import the CSV library\n",
    "import csv"
   ]
  },
  {
   "cell_type": "code",
   "execution_count": 36,
   "id": "591a4d4b-f1ad-4b8a-a636-d20baa97a403",
   "metadata": {},
   "outputs": [],
   "source": [
    "# Setup globals\n",
    "\n",
    "# Ledger to hold all the budget entries on file\n",
    "ledger = {}\n",
    "movements = {}"
   ]
  },
  {
   "cell_type": "code",
   "execution_count": 63,
   "id": "37e2541a-5ad8-47fd-97d1-dc245fe456e3",
   "metadata": {},
   "outputs": [],
   "source": [
    "# Set up path to data file and read the data\n",
    "data_file_path = \"./data/budget_data.csv\"\n",
    "with open(data_file_path, \"r\") as budget_file:\n",
    "    budget_data = csv.reader(budget_file, delimiter=\",\")\n",
    "    \n",
    "    # Move past header\n",
    "    next(budget_data)\n",
    "    \n",
    "    # Loop through the row data and save to a dictionary\n",
    "    previous_key = \"\"\n",
    "    for row in budget_data:\n",
    "        ledger[row[0]] = int(row[1])\n",
    "        \n",
    "        # Build the movements dictionary as we iterate through the data\n",
    "        if previous_key != \"\":\n",
    "            movements[row[0]] = ledger[row[0]] - ledger[previous_key]\n",
    "        previous_key = row[0]"
   ]
  },
  {
   "cell_type": "code",
   "execution_count": 59,
   "id": "2fea625f-51f6-4e74-a669-91ada13684ec",
   "metadata": {},
   "outputs": [
    {
     "name": "stdout",
     "output_type": "stream",
     "text": [
      "Financial Analysis\n",
      "---------------------------------------------------\n",
      "Total Months: 86\n",
      "Total: $38382578\n",
      "Average Change: $-2315.12\n",
      "Greatest Increase in Profits: Feb-2012 ($1926159)\n",
      "Greatest Decrease in Profits: Sep-2013 ($-2196167)\n"
     ]
    }
   ],
   "source": [
    "# Calculate and print financial analysis\n",
    "print(\"Financial Analysis\")\n",
    "print(\"---------------------------------------------------\")\n",
    "total_months = len(ledger)\n",
    "print(f\"Total Months: {total_months}\")\n",
    "net_profit_loss = sum(ledger.values())\n",
    "print(f\"Total: ${net_profit_loss}\")\n",
    "\n",
    "# Calculate change, min and max\n",
    "avg_change = sum(movements.values()) / len(movements)\n",
    "print(f\"Average Change: ${round(avg_change, 2)}\")\n",
    "\n",
    "max_change = max(movements.values())\n",
    "index_of_max_change = list(movements.values()).index(max_change)\n",
    "movements_keys = list(movements.keys())\n",
    "max_date = movements_keys[index_of_max_change]\n",
    "print(f\"Greatest Increase in Profits: {max_date} (${max_change})\")\n",
    "\n",
    "min_change = min(movements.values())\n",
    "index_of_min_change = list(movements.values()).index(min_change)\n",
    "min_date = movements_keys[index_of_min_change]\n",
    "print(f\"Greatest Decrease in Profits: {min_date} (${min_change})\")"
   ]
  },
  {
   "cell_type": "code",
   "execution_count": null,
   "id": "58c9036d-a6d0-4729-bf5e-d9a6da66a88d",
   "metadata": {},
   "outputs": [],
   "source": []
  }
 ],
 "metadata": {
  "kernelspec": {
   "display_name": "Python 3 (ipykernel)",
   "language": "python",
   "name": "python3"
  },
  "language_info": {
   "codemirror_mode": {
    "name": "ipython",
    "version": 3
   },
   "file_extension": ".py",
   "mimetype": "text/x-python",
   "name": "python",
   "nbconvert_exporter": "python",
   "pygments_lexer": "ipython3",
   "version": "3.7.13"
  }
 },
 "nbformat": 4,
 "nbformat_minor": 5
}
