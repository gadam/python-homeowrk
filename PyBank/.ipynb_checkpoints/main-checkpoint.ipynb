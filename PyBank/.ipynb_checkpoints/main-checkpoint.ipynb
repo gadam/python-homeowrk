{
 "cells": [
  {
   "cell_type": "code",
   "execution_count": 11,
   "id": "8c626efd-3dba-4474-b5f9-e3acd95c809f",
   "metadata": {},
   "outputs": [],
   "source": [
    "'''\n",
    "Python script that analyzes the financial records of the company to calculate each of the following:\n",
    "\n",
    "    The total number of months included in the dataset.\n",
    "    The net total amount of Profit/Losses over the entire period.\n",
    "    The average of the changes in Profit/Losses over the entire period.\n",
    "    The greatest increase in profits (date and amount) over the entire period.\n",
    "    The greatest decrease in losses (date and amount) over the entire period.\n",
    "'''\n",
    "# Import from the pathlib library, the main class Path\n",
    "from pathlib import Path\n",
    "# Import date and timedelta classes from the datetime library\n",
    "from datetime import date, timedelta\n",
    "# Import the CSV library\n",
    "import csv"
   ]
  },
  {
   "cell_type": "code",
   "execution_count": 19,
   "id": "591a4d4b-f1ad-4b8a-a636-d20baa97a403",
   "metadata": {},
   "outputs": [],
   "source": [
    "# Setup globals\n",
    "\n",
    "# Ledger to hold all the budget entries on file\n",
    "ledger = {}\n",
    "movement = []"
   ]
  },
  {
   "cell_type": "code",
   "execution_count": 29,
   "id": "37e2541a-5ad8-47fd-97d1-dc245fe456e3",
   "metadata": {},
   "outputs": [
    {
     "name": "stdout",
     "output_type": "stream",
     "text": [
      "2\n",
      "3\n",
      "4\n",
      "5\n",
      "6\n",
      "7\n",
      "8\n",
      "9\n",
      "10\n",
      "11\n",
      "12\n",
      "13\n",
      "14\n",
      "15\n",
      "16\n",
      "17\n",
      "18\n",
      "19\n",
      "20\n",
      "21\n",
      "22\n",
      "23\n",
      "24\n",
      "25\n",
      "26\n",
      "27\n",
      "28\n",
      "29\n",
      "30\n",
      "31\n",
      "32\n",
      "33\n",
      "34\n",
      "35\n",
      "36\n",
      "37\n",
      "38\n",
      "39\n",
      "40\n",
      "41\n",
      "42\n",
      "43\n",
      "44\n",
      "45\n",
      "46\n",
      "47\n",
      "48\n",
      "49\n",
      "50\n",
      "51\n",
      "52\n",
      "53\n",
      "54\n",
      "55\n",
      "56\n",
      "57\n",
      "58\n",
      "59\n",
      "60\n",
      "61\n",
      "62\n",
      "63\n",
      "64\n",
      "65\n",
      "66\n",
      "67\n",
      "68\n",
      "69\n",
      "70\n",
      "71\n",
      "72\n",
      "73\n",
      "74\n",
      "75\n",
      "76\n",
      "77\n",
      "78\n",
      "79\n",
      "80\n",
      "81\n",
      "82\n",
      "83\n",
      "84\n",
      "85\n",
      "86\n",
      "87\n"
     ]
    }
   ],
   "source": [
    "# Set up path to data file and read the data\n",
    "data_file_path = \"./data/budget_data.csv\"\n",
    "with open(data_file_path, \"r\") as budget_file:\n",
    "    budget_data = csv.reader(budget_file, delimiter=\",\")\n",
    "    \n",
    "    # Save the header\n",
    "    header = next(budget_data)\n",
    "    \n",
    "    # Loop through the data and save to a dictionary\n",
    "    for row in budget_data:\n",
    "        ledger[row[0]] = int(row[1])"
   ]
  },
  {
   "cell_type": "code",
   "execution_count": 27,
   "id": "2fea625f-51f6-4e74-a669-91ada13684ec",
   "metadata": {},
   "outputs": [
    {
     "name": "stdout",
     "output_type": "stream",
     "text": [
      "Financial Analysis\n",
      "----------------------------\n",
      "Total Months: 86\n",
      "Total: $38382578\n",
      "Average Change: $446309.0465116279\n"
     ]
    }
   ],
   "source": [
    "# Calculate financial analysis\n",
    "print(\"Financial Analysis\")\n",
    "print(\"----------------------------\")\n",
    "total_months = len(ledger)\n",
    "print(f\"Total Months: {total_months}\")\n",
    "net_profit_loss = sum(ledger.values())\n",
    "print(f\"Total: ${net_profit_loss}\")\n",
    "avg_change = net_profit_loss / total_months\n",
    "print(f\"Average Change: ${avg_change}\")"
   ]
  }
 ],
 "metadata": {
  "kernelspec": {
   "display_name": "Python 3 (ipykernel)",
   "language": "python",
   "name": "python3"
  },
  "language_info": {
   "codemirror_mode": {
    "name": "ipython",
    "version": 3
   },
   "file_extension": ".py",
   "mimetype": "text/x-python",
   "name": "python",
   "nbconvert_exporter": "python",
   "pygments_lexer": "ipython3",
   "version": "3.7.13"
  }
 },
 "nbformat": 4,
 "nbformat_minor": 5
}
