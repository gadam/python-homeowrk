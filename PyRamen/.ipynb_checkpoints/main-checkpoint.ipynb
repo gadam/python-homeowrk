{
 "cells": [
  {
   "cell_type": "code",
   "execution_count": 1,
   "id": "d84cb012-049b-4991-9a5a-8255daa42a14",
   "metadata": {},
   "outputs": [],
   "source": [
    "'''\n",
    "Python script that analyzes analyze how well the Ichiban Ramen business did on a per-product basis\n",
    "in order to better understand which products are doing well, which are doing poorly, and, \n",
    "ultimately, which products may need to be removed or changed\n",
    "'''\n",
    "# Import from the pathlib library, the main class Path\n",
    "from pathlib import Path\n",
    "\n",
    "# Import the CSV library\n",
    "import csv"
   ]
  },
  {
   "cell_type": "code",
   "execution_count": 2,
   "id": "fe2b4108-a388-4603-89a9-7157e0dcd743",
   "metadata": {},
   "outputs": [],
   "source": [
    "# List object to hold the menu\n",
    "menu = []\n",
    "\n",
    "# The Sales dictionary holds the sales ledger\n",
    "sales = {}\n",
    "\n",
    "# Report dictionary\n",
    "report = {}"
   ]
  },
  {
   "cell_type": "code",
   "execution_count": 3,
   "id": "7c6b1961-b8c3-4bd3-930c-359173143c95",
   "metadata": {},
   "outputs": [],
   "source": [
    "# Open and process the menu file\n",
    "menu_file_path = Path(\"./Resources/menu_data.csv\")\n",
    "with open(menu_file_path, \"r\") as menu_file:\n",
    "    menu_data = csv.reader(menu_file, delimiter=\",\")\n",
    "    \n",
    "    # Skip header row\n",
    "    next(menu_data)\n",
    "    \n",
    "    # Store menu data into the menu opject\n",
    "    for row in menu_data:\n",
    "        menu.append(row)"
   ]
  },
  {
   "cell_type": "code",
   "execution_count": 4,
   "id": "955fe34d-3198-4286-b5f4-e7d60aca9069",
   "metadata": {},
   "outputs": [],
   "source": [
    "# Open and process the sales file\n",
    "sales_file_path = Path(\"./Resources/sales_data.csv\")\n",
    "with open(sales_file_path, \"r\") as sales_file:\n",
    "    sales_data = csv.DictReader(sales_file, delimiter=\",\")\n",
    "    \n",
    "    # Create a new entry into the report opject and populate the sales object\n",
    "    for row in sales_data:\n",
    "        # If menu item is not already in the report, insert new entry\n",
    "        if row[\"Menu_Item\"] not in report:\n",
    "            # new_entry = {}\n",
    "            # new_entry[\"01-count\"] = 0\n",
    "            # new_entry[\"02-revenue\"] = 0\n",
    "            # new_entry[\"03-cogs\"] = 0\n",
    "            # new_entry[\"04-profit\"] = 0\n",
    "            report[row[\"Menu_Item\"]] = {}\n",
    "            report[row[\"Menu_Item\"]][\"01-count\"] = 0\n",
    "            \n",
    "        if row[\"Menu_Item\"] not in sales:\n",
    "            sales[row[\"Menu_Item\"]] = {}\n",
    "            sales[row[\"Menu_Item\"]][\"Quantity\"] = int(row[\"Quantity\"])\n",
    "        # else:\n",
    "            # sales[row[\"Menu_Item\"]][\"Quantity\"] += int(row[\"Quantity\"])"
   ]
  },
  {
   "cell_type": "code",
   "execution_count": 5,
   "id": "7d2225ee-3fd3-49c3-8194-37724508566d",
   "metadata": {},
   "outputs": [
    {
     "data": {
      "text/plain": [
       "{'spicy miso ramen': {'Quantity': 1},\n",
       " 'tori paitan ramen': {'Quantity': 3},\n",
       " 'truffle butter ramen': {'Quantity': 1},\n",
       " 'tonkotsu ramen': {'Quantity': 1},\n",
       " 'vegetarian spicy miso': {'Quantity': 1},\n",
       " 'shio ramen': {'Quantity': 1},\n",
       " 'miso crab ramen': {'Quantity': 4},\n",
       " 'nagomi shoyu': {'Quantity': 1},\n",
       " 'soft-shell miso crab ramen': {'Quantity': 1},\n",
       " 'burnt garlic tonkotsu ramen': {'Quantity': 1},\n",
       " 'vegetarian curry + king trumpet mushroom ramen': {'Quantity': 1}}"
      ]
     },
     "execution_count": 5,
     "metadata": {},
     "output_type": "execute_result"
    }
   ],
   "source": [
    "sales"
   ]
  },
  {
   "cell_type": "code",
   "execution_count": 6,
   "id": "977d3ad1-f470-4061-be5b-fb9fc5d4fb56",
   "metadata": {},
   "outputs": [
    {
     "data": {
      "text/plain": [
       "{'spicy miso ramen': {'01-count': 0},\n",
       " 'tori paitan ramen': {'01-count': 0},\n",
       " 'truffle butter ramen': {'01-count': 0},\n",
       " 'tonkotsu ramen': {'01-count': 0},\n",
       " 'vegetarian spicy miso': {'01-count': 0},\n",
       " 'shio ramen': {'01-count': 0},\n",
       " 'miso crab ramen': {'01-count': 0},\n",
       " 'nagomi shoyu': {'01-count': 0},\n",
       " 'soft-shell miso crab ramen': {'01-count': 0},\n",
       " 'burnt garlic tonkotsu ramen': {'01-count': 0},\n",
       " 'vegetarian curry + king trumpet mushroom ramen': {'01-count': 0}}"
      ]
     },
     "execution_count": 6,
     "metadata": {},
     "output_type": "execute_result"
    }
   ],
   "source": [
    "report"
   ]
  },
  {
   "cell_type": "code",
   "execution_count": null,
   "id": "7103c2c9-8e35-46fc-ad7b-0480894710e3",
   "metadata": {},
   "outputs": [],
   "source": []
  },
  {
   "cell_type": "code",
   "execution_count": null,
   "id": "c91f3b07-26c3-43bb-8b94-e4fac30baadf",
   "metadata": {},
   "outputs": [],
   "source": []
  },
  {
   "cell_type": "code",
   "execution_count": null,
   "id": "7b399246-9b32-4ce7-bfdf-96abad60144a",
   "metadata": {},
   "outputs": [],
   "source": []
  }
 ],
 "metadata": {
  "kernelspec": {
   "display_name": "Python 3 (ipykernel)",
   "language": "python",
   "name": "python3"
  },
  "language_info": {
   "codemirror_mode": {
    "name": "ipython",
    "version": 3
   },
   "file_extension": ".py",
   "mimetype": "text/x-python",
   "name": "python",
   "nbconvert_exporter": "python",
   "pygments_lexer": "ipython3",
   "version": "3.7.13"
  }
 },
 "nbformat": 4,
 "nbformat_minor": 5
}
