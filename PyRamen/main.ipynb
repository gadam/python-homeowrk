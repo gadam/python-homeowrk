{
 "cells": [
  {
   "cell_type": "code",
   "execution_count": 1,
   "id": "d84cb012-049b-4991-9a5a-8255daa42a14",
   "metadata": {},
   "outputs": [],
   "source": [
    "'''\n",
    "Python script that analyzes analyze how well the Ichiban Ramen business did on a per-product basis\n",
    "in order to better understand which products are doing well, which are doing poorly, and, \n",
    "ultimately, which products may need to be removed or changed\n",
    "'''\n",
    "# Import from the pathlib library, the main class Path\n",
    "from pathlib import Path\n",
    "\n",
    "# Import the CSV library\n",
    "import csv"
   ]
  },
  {
   "cell_type": "code",
   "execution_count": 2,
   "id": "fe2b4108-a388-4603-89a9-7157e0dcd743",
   "metadata": {},
   "outputs": [],
   "source": [
    "# Menu dictionary object to hold the menu\n",
    "menu = {}\n",
    "\n",
    "# The Sales dictionary holds the sales ledger\n",
    "sales = {}\n",
    "\n",
    "# Report dictionary object for the final report\n",
    "report = {}"
   ]
  },
  {
   "cell_type": "code",
   "execution_count": 3,
   "id": "7c6b1961-b8c3-4bd3-930c-359173143c95",
   "metadata": {},
   "outputs": [],
   "source": [
    "# Open and process the menu file\n",
    "menu_file_path = Path(\"./Resources/menu_data.csv\")\n",
    "with open(menu_file_path, \"r\") as menu_file:\n",
    "    menu_data = csv.DictReader(menu_file, delimiter=\",\")\n",
    "        \n",
    "    # Store menu pricing and cost info into the menu opject\n",
    "    for menu_record in menu_data:\n",
    "        menu[menu_record[\"item\"]] = {}\n",
    "        menu[menu_record[\"item\"]][\"price\"] = float(menu_record[\"price\"])\n",
    "        menu[menu_record[\"item\"]][\"cost\"]  = float(menu_record[\"cost\"])"
   ]
  },
  {
   "cell_type": "code",
   "execution_count": 4,
   "id": "955fe34d-3198-4286-b5f4-e7d60aca9069",
   "metadata": {},
   "outputs": [],
   "source": [
    "# Open and process the sales file\n",
    "sales_file_path = Path(\"./Resources/sales_data.csv\")\n",
    "with open(sales_file_path, \"r\") as sales_file:\n",
    "    sales_data = csv.DictReader(sales_file, delimiter=\",\")\n",
    "    \n",
    "    # Create a new entry into the report opject and \n",
    "    #    populate the sales object\n",
    "    for sales_record in sales_data:\n",
    "        # If menu item is not already in the report, \n",
    "        #    insert new entry initialising all values to zero\n",
    "        if sales_record[\"Menu_Item\"] not in report:\n",
    "            report[sales_record[\"Menu_Item\"]] = {}\n",
    "            report[sales_record[\"Menu_Item\"]][\"01-count\"] = 0\n",
    "            report[sales_record[\"Menu_Item\"]][\"02-revenue\"] = 0\n",
    "            report[sales_record[\"Menu_Item\"]][\"03-cogs\"] = 0\n",
    "            report[sales_record[\"Menu_Item\"]][\"04-profit\"] = 0\n",
    "        \n",
    "        # Record an entry or update entry if it already exists in the sales ledger\n",
    "        if sales_record[\"Menu_Item\"] not in sales:\n",
    "            sales[sales_record[\"Menu_Item\"]] = int(sales_record[\"Quantity\"])\n",
    "        else:\n",
    "            sales[sales_record[\"Menu_Item\"]] += int(sales_record[\"Quantity\"])"
   ]
  },
  {
   "cell_type": "code",
   "execution_count": 5,
   "id": "7d2225ee-3fd3-49c3-8194-37724508566d",
   "metadata": {},
   "outputs": [],
   "source": [
    "# Generate financial report by reviewing the whole sales register\n",
    "for (sale_item, quantity) in sales.items():\n",
    "    sale = menu[sale_item][\"price\"] * quantity\n",
    "    cogs = menu[sale_item][\"cost\"] * quantity\n",
    "    profit_loss = sale - cogs\n",
    "    report[sale_item][\"01-count\"] += quantity\n",
    "    report[sale_item][\"02-revenue\"] += sale\n",
    "    report[sale_item][\"03-cogs\"] += cogs\n",
    "    report[sale_item][\"04-profit\"] += profit_loss\n"
   ]
  },
  {
   "cell_type": "code",
   "execution_count": 6,
   "id": "977d3ad1-f470-4061-be5b-fb9fc5d4fb56",
   "metadata": {},
   "outputs": [],
   "source": [
    "# Write the report object to an output file\n",
    "output_file_path = Path(\"./Resources/output.txt\")\n",
    "with open(output_file_path, \"w\") as output_file:\n",
    "    for (menu_item, financials) in report.items():\n",
    "        output_file.write(f\"{menu_item} {financials}\\n\")"
   ]
  },
  {
   "cell_type": "code",
   "execution_count": null,
   "id": "7103c2c9-8e35-46fc-ad7b-0480894710e3",
   "metadata": {},
   "outputs": [],
   "source": []
  }
 ],
 "metadata": {
  "kernelspec": {
   "display_name": "Python 3 (ipykernel)",
   "language": "python",
   "name": "python3"
  },
  "language_info": {
   "codemirror_mode": {
    "name": "ipython",
    "version": 3
   },
   "file_extension": ".py",
   "mimetype": "text/x-python",
   "name": "python",
   "nbconvert_exporter": "python",
   "pygments_lexer": "ipython3",
   "version": "3.7.13"
  }
 },
 "nbformat": 4,
 "nbformat_minor": 5
}
